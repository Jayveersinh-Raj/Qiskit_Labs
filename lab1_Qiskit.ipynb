{
  "cells": [
    {
      "cell_type": "markdown",
      "metadata": {
        "id": "view-in-github",
        "colab_type": "text"
      },
      "source": [
        "<a href=\"https://colab.research.google.com/github/Jayveersinh-Raj/Qiskit_Labs/blob/main/lab1_Qiskit.ipynb\" target=\"_parent\"><img src=\"https://colab.research.google.com/assets/colab-badge.svg\" alt=\"Open In Colab\"/></a>"
      ]
    },
    {
      "cell_type": "code",
      "execution_count": null,
      "metadata": {
        "colab": {
          "base_uri": "https://localhost:8080/"
        },
        "id": "a98fbae5-6955-4966-99d6-bf8da117bd0a",
        "outputId": "275ee55e-f99c-4568-b4e5-f4e52dc1f926"
      },
      "outputs": [
        {
          "name": "stdout",
          "output_type": "stream",
          "text": [
            "Looking in indexes: https://pypi.org/simple, https://us-python.pkg.dev/colab-wheels/public/simple/\n",
            "Collecting qiskit\n",
            "  Downloading qiskit-0.37.2.tar.gz (13 kB)\n",
            "Collecting qiskit-terra==0.21.2\n",
            "  Downloading qiskit_terra-0.21.2-cp37-cp37m-manylinux_2_17_x86_64.manylinux2014_x86_64.whl (6.7 MB)\n",
            "\u001b[K     |████████████████████████████████| 6.7 MB 38.2 MB/s \n",
            "\u001b[?25hCollecting qiskit-aer==0.10.4\n",
            "  Downloading qiskit_aer-0.10.4-cp37-cp37m-manylinux_2_12_x86_64.manylinux2010_x86_64.whl (18.0 MB)\n",
            "\u001b[K     |████████████████████████████████| 18.0 MB 45.2 MB/s \n",
            "\u001b[?25hCollecting qiskit-ibmq-provider==0.19.2\n",
            "  Downloading qiskit_ibmq_provider-0.19.2-py3-none-any.whl (240 kB)\n",
            "\u001b[K     |████████████████████████████████| 240 kB 71.8 MB/s \n",
            "\u001b[?25hRequirement already satisfied: numpy>=1.16.3 in /usr/local/lib/python3.7/dist-packages (from qiskit-aer==0.10.4->qiskit) (1.21.6)\n",
            "Requirement already satisfied: scipy>=1.0 in /usr/local/lib/python3.7/dist-packages (from qiskit-aer==0.10.4->qiskit) (1.7.3)\n",
            "Collecting websocket-client>=1.0.1\n",
            "  Downloading websocket_client-1.4.1-py3-none-any.whl (55 kB)\n",
            "\u001b[K     |████████████████████████████████| 55 kB 4.6 MB/s \n",
            "\u001b[?25hCollecting websockets>=10.0\n",
            "  Downloading websockets-10.3-cp37-cp37m-manylinux_2_5_x86_64.manylinux1_x86_64.manylinux_2_12_x86_64.manylinux2010_x86_64.whl (112 kB)\n",
            "\u001b[K     |████████████████████████████████| 112 kB 59.6 MB/s \n",
            "\u001b[?25hCollecting requests-ntlm>=1.1.0\n",
            "  Downloading requests_ntlm-1.1.0-py2.py3-none-any.whl (5.7 kB)\n",
            "Requirement already satisfied: urllib3>=1.21.1 in /usr/local/lib/python3.7/dist-packages (from qiskit-ibmq-provider==0.19.2->qiskit) (1.24.3)\n",
            "Requirement already satisfied: python-dateutil>=2.8.0 in /usr/local/lib/python3.7/dist-packages (from qiskit-ibmq-provider==0.19.2->qiskit) (2.8.2)\n",
            "Requirement already satisfied: requests>=2.19 in /usr/local/lib/python3.7/dist-packages (from qiskit-ibmq-provider==0.19.2->qiskit) (2.23.0)\n",
            "Collecting tweedledum<2.0,>=1.1\n",
            "  Downloading tweedledum-1.1.1-cp37-cp37m-manylinux_2_12_x86_64.manylinux2010_x86_64.whl (943 kB)\n",
            "\u001b[K     |████████████████████████████████| 943 kB 73.3 MB/s \n",
            "\u001b[?25hRequirement already satisfied: typing-extensions in /usr/local/lib/python3.7/dist-packages (from qiskit-terra==0.21.2->qiskit) (4.1.1)\n",
            "Collecting ply>=3.10\n",
            "  Downloading ply-3.11-py2.py3-none-any.whl (49 kB)\n",
            "\u001b[K     |████████████████████████████████| 49 kB 8.3 MB/s \n",
            "\u001b[?25hRequirement already satisfied: psutil>=5 in /usr/local/lib/python3.7/dist-packages (from qiskit-terra==0.21.2->qiskit) (5.4.8)\n",
            "Collecting shared-memory38\n",
            "  Downloading shared_memory38-0.1.2-cp37-cp37m-manylinux_2_5_x86_64.manylinux1_x86_64.whl (25 kB)\n",
            "Collecting stevedore>=3.0.0\n",
            "  Downloading stevedore-3.5.0-py3-none-any.whl (49 kB)\n",
            "\u001b[K     |████████████████████████████████| 49 kB 8.4 MB/s \n",
            "\u001b[?25hRequirement already satisfied: sympy>=1.3 in /usr/local/lib/python3.7/dist-packages (from qiskit-terra==0.21.2->qiskit) (1.7.1)\n",
            "Collecting symengine>=0.9\n",
            "  Downloading symengine-0.9.2-cp37-cp37m-manylinux2010_x86_64.whl (37.5 MB)\n",
            "\u001b[K     |████████████████████████████████| 37.5 MB 1.1 MB/s \n",
            "\u001b[?25hRequirement already satisfied: dill>=0.3 in /usr/local/lib/python3.7/dist-packages (from qiskit-terra==0.21.2->qiskit) (0.3.5.1)\n",
            "Collecting retworkx>=0.11.0\n",
            "  Downloading retworkx-0.11.0-cp37-cp37m-manylinux_2_5_x86_64.manylinux1_x86_64.manylinux_2_12_x86_64.manylinux2010_x86_64.whl (1.6 MB)\n",
            "\u001b[K     |████████████████████████████████| 1.6 MB 65.7 MB/s \n",
            "\u001b[?25hRequirement already satisfied: six>=1.5 in /usr/local/lib/python3.7/dist-packages (from python-dateutil>=2.8.0->qiskit-ibmq-provider==0.19.2->qiskit) (1.15.0)\n",
            "Requirement already satisfied: chardet<4,>=3.0.2 in /usr/local/lib/python3.7/dist-packages (from requests>=2.19->qiskit-ibmq-provider==0.19.2->qiskit) (3.0.4)\n",
            "Requirement already satisfied: certifi>=2017.4.17 in /usr/local/lib/python3.7/dist-packages (from requests>=2.19->qiskit-ibmq-provider==0.19.2->qiskit) (2022.6.15)\n",
            "Requirement already satisfied: idna<3,>=2.5 in /usr/local/lib/python3.7/dist-packages (from requests>=2.19->qiskit-ibmq-provider==0.19.2->qiskit) (2.10)\n",
            "Collecting cryptography>=1.3\n",
            "  Downloading cryptography-38.0.1-cp36-abi3-manylinux_2_24_x86_64.whl (4.0 MB)\n",
            "\u001b[K     |████████████████████████████████| 4.0 MB 57.3 MB/s \n",
            "\u001b[?25hCollecting ntlm-auth>=1.0.2\n",
            "  Downloading ntlm_auth-1.5.0-py2.py3-none-any.whl (29 kB)\n",
            "Requirement already satisfied: cffi>=1.12 in /usr/local/lib/python3.7/dist-packages (from cryptography>=1.3->requests-ntlm>=1.1.0->qiskit-ibmq-provider==0.19.2->qiskit) (1.15.1)\n",
            "Requirement already satisfied: pycparser in /usr/local/lib/python3.7/dist-packages (from cffi>=1.12->cryptography>=1.3->requests-ntlm>=1.1.0->qiskit-ibmq-provider==0.19.2->qiskit) (2.21)\n",
            "Collecting pbr!=2.1.0,>=2.0.0\n",
            "  Downloading pbr-5.10.0-py2.py3-none-any.whl (112 kB)\n",
            "\u001b[K     |████████████████████████████████| 112 kB 75.9 MB/s \n",
            "\u001b[?25hRequirement already satisfied: importlib-metadata>=1.7.0 in /usr/local/lib/python3.7/dist-packages (from stevedore>=3.0.0->qiskit-terra==0.21.2->qiskit) (4.12.0)\n",
            "Requirement already satisfied: zipp>=0.5 in /usr/local/lib/python3.7/dist-packages (from importlib-metadata>=1.7.0->stevedore>=3.0.0->qiskit-terra==0.21.2->qiskit) (3.8.1)\n",
            "Requirement already satisfied: mpmath>=0.19 in /usr/local/lib/python3.7/dist-packages (from sympy>=1.3->qiskit-terra==0.21.2->qiskit) (1.2.1)\n",
            "Building wheels for collected packages: qiskit\n",
            "  Building wheel for qiskit (setup.py) ... \u001b[?25l\u001b[?25hdone\n",
            "  Created wheel for qiskit: filename=qiskit-0.37.2-py3-none-any.whl size=12109 sha256=a92899dd2ec57a41e832a02a4c80f371b6e4d6e10395531d036e52c68abb0ceb\n",
            "  Stored in directory: /root/.cache/pip/wheels/e6/bd/f3/26c31cfff4a3dbacb1256e46bbe47b658e80aeae833972c757\n",
            "Successfully built qiskit\n",
            "Installing collected packages: pbr, tweedledum, symengine, stevedore, shared-memory38, retworkx, ply, ntlm-auth, cryptography, websockets, websocket-client, requests-ntlm, qiskit-terra, qiskit-ibmq-provider, qiskit-aer, qiskit\n",
            "Successfully installed cryptography-38.0.1 ntlm-auth-1.5.0 pbr-5.10.0 ply-3.11 qiskit-0.37.2 qiskit-aer-0.10.4 qiskit-ibmq-provider-0.19.2 qiskit-terra-0.21.2 requests-ntlm-1.1.0 retworkx-0.11.0 shared-memory38-0.1.2 stevedore-3.5.0 symengine-0.9.2 tweedledum-1.1.1 websocket-client-1.4.1 websockets-10.3\n"
          ]
        }
      ],
      "source": [
        "#!pip install qiskit"
      ],
      "id": "a98fbae5-6955-4966-99d6-bf8da117bd0a"
    },
    {
      "cell_type": "markdown",
      "metadata": {
        "id": "6e5f859e-d33a-4da4-926b-d69b372cbe66"
      },
      "source": [
        "# This is a program"
      ],
      "id": "6e5f859e-d33a-4da4-926b-d69b372cbe66"
    },
    {
      "cell_type": "code",
      "execution_count": null,
      "metadata": {
        "colab": {
          "base_uri": "https://localhost:8080/"
        },
        "id": "mOr_p-QRg47S",
        "outputId": "7ecadcde-77e9-4d4a-f7b2-365a67000ae9"
      },
      "outputs": [
        {
          "name": "stdout",
          "output_type": "stream",
          "text": [
            "Looking in indexes: https://pypi.org/simple, https://us-python.pkg.dev/colab-wheels/public/simple/\n",
            "Collecting pylatexenc\n",
            "  Downloading pylatexenc-2.10.tar.gz (162 kB)\n",
            "\u001b[K     |████████████████████████████████| 162 kB 31.8 MB/s \n",
            "\u001b[?25hBuilding wheels for collected packages: pylatexenc\n",
            "  Building wheel for pylatexenc (setup.py) ... \u001b[?25l\u001b[?25hdone\n",
            "  Created wheel for pylatexenc: filename=pylatexenc-2.10-py3-none-any.whl size=136835 sha256=c0a4d43fcfaf51333de0320de5aca1d4ceb2e9167c47b14ac907533bd9fa7c6f\n",
            "  Stored in directory: /root/.cache/pip/wheels/f1/8a/f5/33ee79d4473eb201b519fa40f989b842e373237395a3421f52\n",
            "Successfully built pylatexenc\n",
            "Installing collected packages: pylatexenc\n",
            "Successfully installed pylatexenc-2.10\n"
          ]
        }
      ],
      "source": [
        "#!pip install pylatexenc"
      ],
      "id": "mOr_p-QRg47S"
    },
    {
      "cell_type": "markdown",
      "metadata": {
        "id": "v3xm02veh3UA"
      },
      "source": [
        "# Restart runtime after the installation"
      ],
      "id": "v3xm02veh3UA"
    },
    {
      "cell_type": "code",
      "execution_count": null,
      "metadata": {
        "colab": {
          "base_uri": "https://localhost:8080/"
        },
        "id": "828355e2-7349-4576-9a85-0522fcc75490",
        "outputId": "b84abd27-470f-47ee-f41c-599731e0459d"
      },
      "outputs": [
        {
          "name": "stdout",
          "output_type": "stream",
          "text": [
            "OPENQASM 2.0;\n",
            "include \"qelib1.inc\";\n",
            "qreg qbit[1];\n",
            "creg bit[1];\n",
            "x qbit[0];\n",
            "measure qbit[0] -> bit[0];\n",
            "\n"
          ]
        }
      ],
      "source": [
        "import matplotlib.pyplot as plt\n",
        "from qiskit import QuantumRegister, ClassicalRegister, QuantumCircuit\n",
        "from qiskit.visualization import plot_histogram\n",
        "\n",
        "\n",
        "\n",
        "############# CREATE #####################\n",
        "qr = QuantumRegister(1, 'qbit')\n",
        "cr = ClassicalRegister(1, 'bit')\n",
        "qc = QuantumCircuit(qr, cr)\n",
        "\n",
        "qc.x(0)\n",
        "qc.measure(0, 0)\n",
        "\n",
        "qc.draw(output='mpl')\n",
        "print(qc.qasm())"
      ],
      "id": "828355e2-7349-4576-9a85-0522fcc75490"
    },
    {
      "cell_type": "markdown",
      "metadata": {
        "id": "826af33c-861d-4cce-ac1a-d8063456eb43"
      },
      "source": [
        "# Run the code on a real quantum computer\n",
        "## IBMQ Backends\n",
        "\n",
        "![](https://miro.medium.com/max/700/1*YuR-BtRRTxLQ5EXW8fbUEQ.png)\n",
        "\n",
        "`Provider` - IBM Quantum Experience account provider. A server to ask about machines.\n",
        "\n",
        "`Backend` - IBM Quantum Experience device. Quantum computer.\n",
        "\n",
        "## Obtaining the token\n",
        "\n",
        "Visit https://quantum-computing.ibm.com/account and get the key!\n",
        "\n",
        "Visit https://quantum-computing.ibm.com/services?services=systems&systems=yours and choose a backend (1 bit is ok)."
      ],
      "id": "826af33c-861d-4cce-ac1a-d8063456eb43"
    },
    {
      "cell_type": "markdown",
      "metadata": {
        "id": "c7b02021-400a-43b7-8366-3e3397ab3392"
      },
      "source": [],
      "id": "c7b02021-400a-43b7-8366-3e3397ab3392"
    },
    {
      "cell_type": "code",
      "execution_count": null,
      "metadata": {
        "id": "a44fd9b4-e678-4bfa-aac4-9a5fa02f149f"
      },
      "outputs": [],
      "source": [
        "from qiskit import IBMQ, execute"
      ],
      "id": "a44fd9b4-e678-4bfa-aac4-9a5fa02f149f"
    },
    {
      "cell_type": "code",
      "execution_count": null,
      "metadata": {
        "id": "290746b0-46c7-4f35-b9b6-1eab27987512"
      },
      "outputs": [],
      "source": [
        "token = \"<paste your token here>\""
      ],
      "id": "290746b0-46c7-4f35-b9b6-1eab27987512"
    },
    {
      "cell_type": "code",
      "execution_count": null,
      "metadata": {
        "id": "afbd13f6-1f67-4366-8e3b-3b9ad52a4d81"
      },
      "outputs": [],
      "source": [
        "IBMQ.save_account(token)"
      ],
      "id": "afbd13f6-1f67-4366-8e3b-3b9ad52a4d81"
    },
    {
      "cell_type": "code",
      "execution_count": null,
      "metadata": {
        "colab": {
          "base_uri": "https://localhost:8080/"
        },
        "id": "9528c6c6-99e2-4f3a-bbc7-4bcc556ff6f5",
        "outputId": "ecbfd548-ff03-4022-aa26-89b68e22be89"
      },
      "outputs": [
        {
          "name": "stdout",
          "output_type": "stream",
          "text": [
            "======== Provider list =======\n",
            "[<AccountProvider for IBMQ(hub='ibm-q', group='open', project='main')>]\n",
            "\n",
            "========== QPU list ==========\n",
            "[('ibmq_qasm_simulator', 32, 32), ('ibmq_lima', 5, 106), ('ibmq_belem', 5, 86), ('ibmq_quito', 5, 91), ('simulator_statevector', 32, 32), ('simulator_mps', 100, 32), ('simulator_extended_stabilizer', 63, 32), ('simulator_stabilizer', 5000, 32), ('ibmq_manila', 5, 106), ('ibm_nairobi', 7, 159), ('ibm_oslo', 7, 299)]\n",
            "\n",
            "========== QPU info ==========\n",
            "Works = True, Queue = 91, My Job Limit = 0/5, Qubits = 5\n"
          ]
        }
      ],
      "source": [
        "IBMQ.load_account()\n",
        "\n",
        "print(\"======== Provider list =======\")\n",
        "print(list(IBMQ.providers()))\n",
        "\n",
        "provider = IBMQ.get_provider('ibm-q')\n",
        "print(\"\\n========== QPU list ==========\")\n",
        "print([\n",
        "        (qpu.name(), qpu.configuration().n_qubits, qpu.status().pending_jobs) \n",
        "        for qpu in provider.backends()])\n",
        "\n",
        "print(\"\\n========== QPU info ==========\")\n",
        "machine = \"ibmq_quito\"               # try lima, belem, manila, quito \n",
        "qpu = provider.get_backend(machine) \n",
        "\n",
        "nq = qpu.configuration().n_qubits\n",
        "my_limit = qpu.job_limit().maximum_jobs\n",
        "my_jobs = qpu.job_limit().active_jobs\n",
        "\n",
        "status = qpu.status()\n",
        "is_operational = status.operational\n",
        "jobs_in_queue = status.pending_jobs\n",
        "\n",
        "print(f\"Works = {is_operational}, Queue = {jobs_in_queue}, \"\n",
        "      f\"My Job Limit = {my_jobs}/{my_limit}, Qubits = {nq}\")"
      ],
      "id": "9528c6c6-99e2-4f3a-bbc7-4bcc556ff6f5"
    },
    {
      "cell_type": "code",
      "execution_count": null,
      "metadata": {
        "colab": {
          "background_save": true,
          "base_uri": "https://localhost:8080/"
        },
        "id": "36f76f1b-fbad-44a1-9a50-fd7d5d633ac5",
        "outputId": "7eadebff-7c9d-4b01-f6f0-bb877ecfb6b6"
      },
      "outputs": [
        {
          "name": "stdout",
          "output_type": "stream",
          "text": [
            "Job Status: job has successfully run\n"
          ]
        }
      ],
      "source": [
        "qpu = provider.get_backend(\"ibmq_quito\")\n",
        "job = execute(qc, backend=qpu, shots=40)\n",
        "\n",
        "from qiskit.tools.monitor import job_monitor\n",
        "\n",
        "job_monitor(job)"
      ],
      "id": "36f76f1b-fbad-44a1-9a50-fd7d5d633ac5"
    },
    {
      "cell_type": "code",
      "execution_count": null,
      "metadata": {
        "colab": {
          "background_save": true
        },
        "id": "01c30cab-6227-4841-bd9c-d5d58a2e1a8d",
        "outputId": "4c22bbeb-42ec-4864-fac7-a5182c3222f4"
      },
      "outputs": [
        {
          "data": {
            "image/png": "[encoded data removed]",
            "text/plain": [
              "<Figure size 504x360 with 1 Axes>"
            ]
          },
          "execution_count": 10,
          "metadata": {},
          "output_type": "execute_result"
        }
      ],
      "source": [
        "counts = job.result().get_counts()\n",
        "plot_histogram(counts)"
      ],
      "id": "01c30cab-6227-4841-bd9c-d5d58a2e1a8d"
    }
  ],
  "metadata": {
    "accelerator": "GPU",
    "colab": {
      "provenance": [],
      "include_colab_link": true
    },
    "gpuClass": "standard",
    "kernelspec": {
      "display_name": "qiskit",
      "language": "python",
      "name": "qiskit"
    },
    "language_info": {
      "codemirror_mode": {
        "name": "ipython",
        "version": 3
      },
      "file_extension": ".py",
      "mimetype": "text/x-python",
      "name": "python",
      "nbconvert_exporter": "python",
      "pygments_lexer": "ipython3",
      "version": "3.9.7"
    }
  },
  "nbformat": 4,
  "nbformat_minor": 5
}